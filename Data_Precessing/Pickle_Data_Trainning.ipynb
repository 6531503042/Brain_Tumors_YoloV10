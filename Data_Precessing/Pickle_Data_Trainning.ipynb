{
 "cells": [
  {
   "cell_type": "code",
   "execution_count": 32,
   "id": "a32da580",
   "metadata": {},
   "outputs": [
    {
     "name": "stdout",
     "output_type": "stream",
     "text": [
      "\u001b[33mWARNING: Skipping /Users/bricksocoolxd/anaconda3/lib/python3.11/site-packages/check_manifest-0.49.dist-info due to invalid metadata entry 'name'\u001b[0m\u001b[33m\n",
      "\u001b[0m\u001b[33mWARNING: Skipping /Users/bricksocoolxd/anaconda3/lib/python3.11/site-packages/check_manifest-0.49.dist-info due to invalid metadata entry 'name'\u001b[0m\u001b[33m\n",
      "\u001b[0mRequirement already satisfied: tensorflow-macos in /Users/bricksocoolxd/anaconda3/lib/python3.11/site-packages (2.16.2)\n",
      "Requirement already satisfied: tensorflow==2.16.2 in /Users/bricksocoolxd/anaconda3/lib/python3.11/site-packages (from tensorflow-macos) (2.16.2)\n",
      "Requirement already satisfied: absl-py>=1.0.0 in /Users/bricksocoolxd/anaconda3/lib/python3.11/site-packages (from tensorflow==2.16.2->tensorflow-macos) (1.4.0)\n",
      "Requirement already satisfied: astunparse>=1.6.0 in /Users/bricksocoolxd/anaconda3/lib/python3.11/site-packages (from tensorflow==2.16.2->tensorflow-macos) (1.6.3)\n",
      "Requirement already satisfied: flatbuffers>=23.5.26 in /Users/bricksocoolxd/anaconda3/lib/python3.11/site-packages (from tensorflow==2.16.2->tensorflow-macos) (24.3.25)\n",
      "Requirement already satisfied: gast!=0.5.0,!=0.5.1,!=0.5.2,>=0.2.1 in /Users/bricksocoolxd/anaconda3/lib/python3.11/site-packages (from tensorflow==2.16.2->tensorflow-macos) (0.6.0)\n",
      "Requirement already satisfied: google-pasta>=0.1.1 in /Users/bricksocoolxd/anaconda3/lib/python3.11/site-packages (from tensorflow==2.16.2->tensorflow-macos) (0.2.0)\n",
      "Requirement already satisfied: h5py>=3.10.0 in /Users/bricksocoolxd/anaconda3/lib/python3.11/site-packages (from tensorflow==2.16.2->tensorflow-macos) (3.11.0)\n",
      "Requirement already satisfied: libclang>=13.0.0 in /Users/bricksocoolxd/anaconda3/lib/python3.11/site-packages (from tensorflow==2.16.2->tensorflow-macos) (18.1.1)\n",
      "Requirement already satisfied: ml-dtypes~=0.3.1 in /Users/bricksocoolxd/anaconda3/lib/python3.11/site-packages (from tensorflow==2.16.2->tensorflow-macos) (0.3.2)\n",
      "Requirement already satisfied: opt-einsum>=2.3.2 in /Users/bricksocoolxd/anaconda3/lib/python3.11/site-packages (from tensorflow==2.16.2->tensorflow-macos) (3.3.0)\n",
      "Requirement already satisfied: packaging in /Users/bricksocoolxd/anaconda3/lib/python3.11/site-packages (from tensorflow==2.16.2->tensorflow-macos) (23.0)\n",
      "Requirement already satisfied: protobuf!=4.21.0,!=4.21.1,!=4.21.2,!=4.21.3,!=4.21.4,!=4.21.5,<5.0.0dev,>=3.20.3 in /Users/bricksocoolxd/anaconda3/lib/python3.11/site-packages (from tensorflow==2.16.2->tensorflow-macos) (4.24.3)\n",
      "Requirement already satisfied: requests<3,>=2.21.0 in /Users/bricksocoolxd/anaconda3/lib/python3.11/site-packages (from tensorflow==2.16.2->tensorflow-macos) (2.31.0)\n",
      "Requirement already satisfied: setuptools in /Users/bricksocoolxd/anaconda3/lib/python3.11/site-packages (from tensorflow==2.16.2->tensorflow-macos) (70.3.0)\n",
      "Requirement already satisfied: six>=1.12.0 in /Users/bricksocoolxd/anaconda3/lib/python3.11/site-packages (from tensorflow==2.16.2->tensorflow-macos) (1.16.0)\n",
      "Requirement already satisfied: termcolor>=1.1.0 in /Users/bricksocoolxd/anaconda3/lib/python3.11/site-packages (from tensorflow==2.16.2->tensorflow-macos) (2.4.0)\n",
      "Requirement already satisfied: typing-extensions>=3.6.6 in /Users/bricksocoolxd/anaconda3/lib/python3.11/site-packages (from tensorflow==2.16.2->tensorflow-macos) (4.10.0)\n",
      "Requirement already satisfied: wrapt>=1.11.0 in /Users/bricksocoolxd/anaconda3/lib/python3.11/site-packages (from tensorflow==2.16.2->tensorflow-macos) (1.14.1)\n",
      "Requirement already satisfied: grpcio<2.0,>=1.24.3 in /Users/bricksocoolxd/anaconda3/lib/python3.11/site-packages (from tensorflow==2.16.2->tensorflow-macos) (1.58.0)\n",
      "Requirement already satisfied: tensorboard<2.17,>=2.16 in /Users/bricksocoolxd/anaconda3/lib/python3.11/site-packages (from tensorflow==2.16.2->tensorflow-macos) (2.16.2)\n",
      "Requirement already satisfied: keras>=3.0.0 in /Users/bricksocoolxd/anaconda3/lib/python3.11/site-packages (from tensorflow==2.16.2->tensorflow-macos) (3.4.1)\n",
      "Requirement already satisfied: tensorflow-io-gcs-filesystem>=0.23.1 in /Users/bricksocoolxd/anaconda3/lib/python3.11/site-packages (from tensorflow==2.16.2->tensorflow-macos) (0.37.1)\n",
      "Requirement already satisfied: numpy<2.0.0,>=1.23.5 in /Users/bricksocoolxd/anaconda3/lib/python3.11/site-packages (from tensorflow==2.16.2->tensorflow-macos) (1.24.3)\n",
      "Requirement already satisfied: wheel<1.0,>=0.23.0 in /Users/bricksocoolxd/anaconda3/lib/python3.11/site-packages (from astunparse>=1.6.0->tensorflow==2.16.2->tensorflow-macos) (0.43.0)\n",
      "Requirement already satisfied: rich in /Users/bricksocoolxd/anaconda3/lib/python3.11/site-packages (from keras>=3.0.0->tensorflow==2.16.2->tensorflow-macos) (13.5.2)\n",
      "Requirement already satisfied: namex in /Users/bricksocoolxd/anaconda3/lib/python3.11/site-packages (from keras>=3.0.0->tensorflow==2.16.2->tensorflow-macos) (0.0.8)\n",
      "Requirement already satisfied: optree in /Users/bricksocoolxd/anaconda3/lib/python3.11/site-packages (from keras>=3.0.0->tensorflow==2.16.2->tensorflow-macos) (0.12.1)\n",
      "Requirement already satisfied: charset-normalizer<4,>=2 in /Users/bricksocoolxd/anaconda3/lib/python3.11/site-packages (from requests<3,>=2.21.0->tensorflow==2.16.2->tensorflow-macos) (2.0.4)\n",
      "Requirement already satisfied: idna<4,>=2.5 in /Users/bricksocoolxd/anaconda3/lib/python3.11/site-packages (from requests<3,>=2.21.0->tensorflow==2.16.2->tensorflow-macos) (2.10)\n",
      "Requirement already satisfied: urllib3<3,>=1.21.1 in /Users/bricksocoolxd/anaconda3/lib/python3.11/site-packages (from requests<3,>=2.21.0->tensorflow==2.16.2->tensorflow-macos) (1.26.16)\n",
      "Requirement already satisfied: certifi>=2017.4.17 in /Users/bricksocoolxd/anaconda3/lib/python3.11/site-packages (from requests<3,>=2.21.0->tensorflow==2.16.2->tensorflow-macos) (2022.12.7)\n",
      "Requirement already satisfied: markdown>=2.6.8 in /Users/bricksocoolxd/anaconda3/lib/python3.11/site-packages (from tensorboard<2.17,>=2.16->tensorflow==2.16.2->tensorflow-macos) (3.4.1)\n",
      "Requirement already satisfied: tensorboard-data-server<0.8.0,>=0.7.0 in /Users/bricksocoolxd/anaconda3/lib/python3.11/site-packages (from tensorboard<2.17,>=2.16->tensorflow==2.16.2->tensorflow-macos) (0.7.1)\n",
      "Requirement already satisfied: werkzeug>=1.0.1 in /Users/bricksocoolxd/anaconda3/lib/python3.11/site-packages (from tensorboard<2.17,>=2.16->tensorflow==2.16.2->tensorflow-macos) (2.2.3)\n",
      "Requirement already satisfied: MarkupSafe>=2.1.1 in /Users/bricksocoolxd/anaconda3/lib/python3.11/site-packages (from werkzeug>=1.0.1->tensorboard<2.17,>=2.16->tensorflow==2.16.2->tensorflow-macos) (2.1.1)\n",
      "Requirement already satisfied: markdown-it-py>=2.2.0 in /Users/bricksocoolxd/anaconda3/lib/python3.11/site-packages (from rich->keras>=3.0.0->tensorflow==2.16.2->tensorflow-macos) (2.2.0)\n",
      "Requirement already satisfied: pygments<3.0.0,>=2.13.0 in /Users/bricksocoolxd/anaconda3/lib/python3.11/site-packages (from rich->keras>=3.0.0->tensorflow==2.16.2->tensorflow-macos) (2.15.1)\n",
      "Requirement already satisfied: mdurl~=0.1 in /Users/bricksocoolxd/anaconda3/lib/python3.11/site-packages (from markdown-it-py>=2.2.0->rich->keras>=3.0.0->tensorflow==2.16.2->tensorflow-macos) (0.1.0)\n",
      "\u001b[33mWARNING: Skipping /Users/bricksocoolxd/anaconda3/lib/python3.11/site-packages/check_manifest-0.49.dist-info due to invalid metadata entry 'name'\u001b[0m\u001b[33m\n",
      "\u001b[0mNote: you may need to restart the kernel to use updated packages.\n"
     ]
    }
   ],
   "source": [
    "pip install tensorflow-macos\n"
   ]
  },
  {
   "cell_type": "code",
   "execution_count": 29,
   "id": "492d7402",
   "metadata": {},
   "outputs": [
    {
     "name": "stdout",
     "output_type": "stream",
     "text": [
      "TensorFlow version: 2.16.2\n"
     ]
    }
   ],
   "source": [
    "# Import related libraries\n",
    "import os\n",
    "from PIL import Image\n",
    "import numpy as np\n",
    "import pandas as pd\n",
    "import cv2\n",
    "import matplotlib.pyplot as pt\n",
    "from tqdm import tqdm\n",
    "import random\n",
    "import tensorflow as tf\n",
    "\n",
    "# Check TensorFlow version\n",
    "print(f'TensorFlow version: {tf.__version__}')"
   ]
  },
  {
   "cell_type": "code",
   "execution_count": 33,
   "id": "33f5b532",
   "metadata": {},
   "outputs": [
    {
     "name": "stdout",
     "output_type": "stream",
     "text": [
      "GPU is NOT available, running on CPU\n"
     ]
    }
   ],
   "source": [
    "# List physical devices\n",
    "gpus = tf.config.list_physical_devices('GPU')\n",
    "if not gpus:\n",
    "    print(\"GPU is NOT available, running on CPU\")\n",
    "else:\n",
    "    print(\"GPU found: \", gpus)\n",
    "    \n",
    "    # Set memory growth to avoid memory allocation issues\n",
    "    for gpu in gpus:\n",
    "        tf.config.experimental.set_memory_growth(gpu, True)\n",
    "\n",
    "    # Test GPU availability with a simple operation\n",
    "    with tf.device('/GPU:0'):\n",
    "        a = tf.constant([[1.0, 2.0], [3.0, 4.0]])\n",
    "        b = tf.constant([[1.0, 1.0], [0.0, 1.0]])\n",
    "        c = tf.matmul(a, b)\n",
    "        print(\"Matrix multiplication result on GPU: \\n\", c)"
   ]
  },
  {
   "cell_type": "code",
   "execution_count": null,
   "id": "a8fd80f9",
   "metadata": {},
   "outputs": [],
   "source": []
  }
 ],
 "metadata": {
  "kernelspec": {
   "display_name": "Python 3 (ipykernel)",
   "language": "python",
   "name": "python3"
  },
  "language_info": {
   "codemirror_mode": {
    "name": "ipython",
    "version": 3
   },
   "file_extension": ".py",
   "mimetype": "text/x-python",
   "name": "python",
   "nbconvert_exporter": "python",
   "pygments_lexer": "ipython3",
   "version": "3.11.4"
  }
 },
 "nbformat": 4,
 "nbformat_minor": 5
}
